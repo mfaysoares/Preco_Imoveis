{
  "cells": [
    {
      "cell_type": "markdown",
      "metadata": {
        "id": "view-in-github",
        "colab_type": "text"
      },
      "source": [
        "<a href=\"https://colab.research.google.com/github/mfaysoares/Preco_Imoveis/blob/main/Regressao_Linear.ipynb\" target=\"_parent\"><img src=\"https://colab.research.google.com/assets/colab-badge.svg\" alt=\"Open In Colab\"/></a>"
      ]
    },
    {
      "cell_type": "markdown",
      "metadata": {
        "id": "hYekfac5YD7g"
      },
      "source": [
        "<h1 style='color: green; font-size: 36px; font-weight: bold;'>Data Science - Regressão Linear</h1>"
      ]
    },
    {
      "cell_type": "markdown",
      "metadata": {
        "id": "zzEFnLb8YD7p"
      },
      "source": [
        "# <font color='red' style='font-size: 30px;'>Conhecendo o Dataset</font>\n",
        "<hr style='border: 2px solid red;'>"
      ]
    },
    {
      "cell_type": "markdown",
      "metadata": {
        "id": "FjR_FuSZYD7r"
      },
      "source": [
        "## Importando bibliotecas"
      ]
    },
    {
      "cell_type": "code",
      "execution_count": 1,
      "metadata": {
        "id": "TZ7cob1oYD7s"
      },
      "outputs": [],
      "source": [
        "import pandas as pd\n",
        "import numpy as np\n",
        "\n",
        "import matplotlib.pyplot as plt\n",
        "%matplotlib inline\n",
        "\n",
        "import warnings\n",
        "warnings.filterwarnings('ignore')\n",
        "\n",
        "import seaborn as sns\n",
        "\n",
        "from sklearn.model_selection import train_test_split\n",
        "from sklearn.linear_model import LinearRegression\n",
        "from sklearn import metrics"
      ]
    },
    {
      "cell_type": "markdown",
      "metadata": {
        "id": "Neu0wkaVYD7s"
      },
      "source": [
        "## O Dataset e o Projeto\n",
        "<hr>\n",
        "\n",
        "### Fonte: https://www.kaggle.com/greenwing1985/housepricing\n",
        "\n",
        "### Descrição:\n",
        "<p style='font-size: 18px; line-height: 2; margin: 10px 50px; text-align: justify;'>Nosso objetivo neste exercício é criar um modelo de machine learning, utilizando a técnica de Regressão Linear, que faça previsões sobre os preços de imóveis a partir de um conjunto de características conhecidas dos imóveis.</p>\n",
        "\n",
        "<p style='font-size: 18px; line-height: 2; margin: 10px 50px; text-align: justify;'>Vamos utilizar um dataset disponível no Kaggle que foi gerado por computador para treinamento de machine learning para iniciantes. Este dataset foi modificado para facilitar o nosso objetivo, que é fixar o conhecimento adquirido no treinamento de Regressão Linear.</p>\n",
        "\n",
        "<p style='font-size: 18px; line-height: 2; margin: 10px 50px; text-align: justify;'>Siga os passos propostos nos comentários acima de cada célular e bons estudos.</p>\n",
        "\n",
        "### Dados:\n",
        "<ul style='font-size: 18px; line-height: 2; text-align: justify;'>\n",
        "    <li><b>precos</b> - Preços do imóveis</li>\n",
        "    <li><b>area</b> - Área do imóvel</li>\n",
        "    <li><b>garagem</b> - Número de vagas de garagem</li>\n",
        "    <li><b>banheiros</b> - Número de banheiros</li>\n",
        "    <li><b>lareira</b> - Número de lareiras</li>\n",
        "    <li><b>marmore</b> - Se o imóvel possui acabamento em mármore branco (1) ou não (0)</li>\n",
        "    <li><b>andares</b> - Se o imóvel possui mais de um andar (1) ou não (0)</li>\n",
        "</ul>"
      ]
    },
    {
      "cell_type": "markdown",
      "metadata": {
        "id": "BxPIZgEYYD7u"
      },
      "source": [
        "## Leitura dos dados\n",
        "\n",
        "Dataset está na pasta \"Dados\" com o nome \"HousePrices_HalfMil.csv\" em usa como separador \";\"."
      ]
    },
    {
      "cell_type": "code",
      "execution_count": 4,
      "metadata": {
        "id": "JyKtSd6JYD7w"
      },
      "outputs": [],
      "source": [
        "df = pd.read_csv('HousePrices_HalfMil.csv',\n",
        "                 sep = ';')"
      ]
    },
    {
      "cell_type": "markdown",
      "metadata": {
        "id": "LX0ABFHfYD7w"
      },
      "source": [
        "## Visualizar os dados"
      ]
    },
    {
      "cell_type": "code",
      "execution_count": 5,
      "metadata": {
        "scrolled": true,
        "colab": {
          "base_uri": "https://localhost:8080/",
          "height": 206
        },
        "id": "ro65iCVxYD7x",
        "outputId": "ddf06203-176b-447c-9a77-97a560bca958"
      },
      "outputs": [
        {
          "output_type": "execute_result",
          "data": {
            "text/plain": [
              "   precos  area  garagem  banheiros  lareira  marmore  andares\n",
              "0   51875    25        3          4        3        0        1\n",
              "1   17875    35        1          3        1        0        0\n",
              "2   47075   195        2          4        2        0        0\n",
              "3   38575    33        2          2        1        0        1\n",
              "4   33775    11        2          3        0        0        1"
            ],
            "text/html": [
              "\n",
              "  <div id=\"df-3fc50387-1772-45ec-b7f9-a04e7ccaba19\">\n",
              "    <div class=\"colab-df-container\">\n",
              "      <div>\n",
              "<style scoped>\n",
              "    .dataframe tbody tr th:only-of-type {\n",
              "        vertical-align: middle;\n",
              "    }\n",
              "\n",
              "    .dataframe tbody tr th {\n",
              "        vertical-align: top;\n",
              "    }\n",
              "\n",
              "    .dataframe thead th {\n",
              "        text-align: right;\n",
              "    }\n",
              "</style>\n",
              "<table border=\"1\" class=\"dataframe\">\n",
              "  <thead>\n",
              "    <tr style=\"text-align: right;\">\n",
              "      <th></th>\n",
              "      <th>precos</th>\n",
              "      <th>area</th>\n",
              "      <th>garagem</th>\n",
              "      <th>banheiros</th>\n",
              "      <th>lareira</th>\n",
              "      <th>marmore</th>\n",
              "      <th>andares</th>\n",
              "    </tr>\n",
              "  </thead>\n",
              "  <tbody>\n",
              "    <tr>\n",
              "      <th>0</th>\n",
              "      <td>51875</td>\n",
              "      <td>25</td>\n",
              "      <td>3</td>\n",
              "      <td>4</td>\n",
              "      <td>3</td>\n",
              "      <td>0</td>\n",
              "      <td>1</td>\n",
              "    </tr>\n",
              "    <tr>\n",
              "      <th>1</th>\n",
              "      <td>17875</td>\n",
              "      <td>35</td>\n",
              "      <td>1</td>\n",
              "      <td>3</td>\n",
              "      <td>1</td>\n",
              "      <td>0</td>\n",
              "      <td>0</td>\n",
              "    </tr>\n",
              "    <tr>\n",
              "      <th>2</th>\n",
              "      <td>47075</td>\n",
              "      <td>195</td>\n",
              "      <td>2</td>\n",
              "      <td>4</td>\n",
              "      <td>2</td>\n",
              "      <td>0</td>\n",
              "      <td>0</td>\n",
              "    </tr>\n",
              "    <tr>\n",
              "      <th>3</th>\n",
              "      <td>38575</td>\n",
              "      <td>33</td>\n",
              "      <td>2</td>\n",
              "      <td>2</td>\n",
              "      <td>1</td>\n",
              "      <td>0</td>\n",
              "      <td>1</td>\n",
              "    </tr>\n",
              "    <tr>\n",
              "      <th>4</th>\n",
              "      <td>33775</td>\n",
              "      <td>11</td>\n",
              "      <td>2</td>\n",
              "      <td>3</td>\n",
              "      <td>0</td>\n",
              "      <td>0</td>\n",
              "      <td>1</td>\n",
              "    </tr>\n",
              "  </tbody>\n",
              "</table>\n",
              "</div>\n",
              "      <button class=\"colab-df-convert\" onclick=\"convertToInteractive('df-3fc50387-1772-45ec-b7f9-a04e7ccaba19')\"\n",
              "              title=\"Convert this dataframe to an interactive table.\"\n",
              "              style=\"display:none;\">\n",
              "        \n",
              "  <svg xmlns=\"http://www.w3.org/2000/svg\" height=\"24px\"viewBox=\"0 0 24 24\"\n",
              "       width=\"24px\">\n",
              "    <path d=\"M0 0h24v24H0V0z\" fill=\"none\"/>\n",
              "    <path d=\"M18.56 5.44l.94 2.06.94-2.06 2.06-.94-2.06-.94-.94-2.06-.94 2.06-2.06.94zm-11 1L8.5 8.5l.94-2.06 2.06-.94-2.06-.94L8.5 2.5l-.94 2.06-2.06.94zm10 10l.94 2.06.94-2.06 2.06-.94-2.06-.94-.94-2.06-.94 2.06-2.06.94z\"/><path d=\"M17.41 7.96l-1.37-1.37c-.4-.4-.92-.59-1.43-.59-.52 0-1.04.2-1.43.59L10.3 9.45l-7.72 7.72c-.78.78-.78 2.05 0 2.83L4 21.41c.39.39.9.59 1.41.59.51 0 1.02-.2 1.41-.59l7.78-7.78 2.81-2.81c.8-.78.8-2.07 0-2.86zM5.41 20L4 18.59l7.72-7.72 1.47 1.35L5.41 20z\"/>\n",
              "  </svg>\n",
              "      </button>\n",
              "      \n",
              "  <style>\n",
              "    .colab-df-container {\n",
              "      display:flex;\n",
              "      flex-wrap:wrap;\n",
              "      gap: 12px;\n",
              "    }\n",
              "\n",
              "    .colab-df-convert {\n",
              "      background-color: #E8F0FE;\n",
              "      border: none;\n",
              "      border-radius: 50%;\n",
              "      cursor: pointer;\n",
              "      display: none;\n",
              "      fill: #1967D2;\n",
              "      height: 32px;\n",
              "      padding: 0 0 0 0;\n",
              "      width: 32px;\n",
              "    }\n",
              "\n",
              "    .colab-df-convert:hover {\n",
              "      background-color: #E2EBFA;\n",
              "      box-shadow: 0px 1px 2px rgba(60, 64, 67, 0.3), 0px 1px 3px 1px rgba(60, 64, 67, 0.15);\n",
              "      fill: #174EA6;\n",
              "    }\n",
              "\n",
              "    [theme=dark] .colab-df-convert {\n",
              "      background-color: #3B4455;\n",
              "      fill: #D2E3FC;\n",
              "    }\n",
              "\n",
              "    [theme=dark] .colab-df-convert:hover {\n",
              "      background-color: #434B5C;\n",
              "      box-shadow: 0px 1px 3px 1px rgba(0, 0, 0, 0.15);\n",
              "      filter: drop-shadow(0px 1px 2px rgba(0, 0, 0, 0.3));\n",
              "      fill: #FFFFFF;\n",
              "    }\n",
              "  </style>\n",
              "\n",
              "      <script>\n",
              "        const buttonEl =\n",
              "          document.querySelector('#df-3fc50387-1772-45ec-b7f9-a04e7ccaba19 button.colab-df-convert');\n",
              "        buttonEl.style.display =\n",
              "          google.colab.kernel.accessAllowed ? 'block' : 'none';\n",
              "\n",
              "        async function convertToInteractive(key) {\n",
              "          const element = document.querySelector('#df-3fc50387-1772-45ec-b7f9-a04e7ccaba19');\n",
              "          const dataTable =\n",
              "            await google.colab.kernel.invokeFunction('convertToInteractive',\n",
              "                                                     [key], {});\n",
              "          if (!dataTable) return;\n",
              "\n",
              "          const docLinkHtml = 'Like what you see? Visit the ' +\n",
              "            '<a target=\"_blank\" href=https://colab.research.google.com/notebooks/data_table.ipynb>data table notebook</a>'\n",
              "            + ' to learn more about interactive tables.';\n",
              "          element.innerHTML = '';\n",
              "          dataTable['output_type'] = 'display_data';\n",
              "          await google.colab.output.renderOutput(dataTable, element);\n",
              "          const docLink = document.createElement('div');\n",
              "          docLink.innerHTML = docLinkHtml;\n",
              "          element.appendChild(docLink);\n",
              "        }\n",
              "      </script>\n",
              "    </div>\n",
              "  </div>\n",
              "  "
            ]
          },
          "metadata": {},
          "execution_count": 5
        }
      ],
      "source": [
        "df.head()"
      ]
    },
    {
      "cell_type": "markdown",
      "metadata": {
        "id": "TQKLqTcIYD7y"
      },
      "source": [
        "## Verificando o tamanho do dataset"
      ]
    },
    {
      "cell_type": "code",
      "execution_count": 7,
      "metadata": {
        "colab": {
          "base_uri": "https://localhost:8080/"
        },
        "id": "9VKqpl8GYD7z",
        "outputId": "f31a659a-0d9c-4942-dfe2-44727c690825"
      },
      "outputs": [
        {
          "output_type": "execute_result",
          "data": {
            "text/plain": [
              "(1000, 7)"
            ]
          },
          "metadata": {},
          "execution_count": 7
        }
      ],
      "source": [
        "df.shape"
      ]
    },
    {
      "cell_type": "markdown",
      "metadata": {
        "id": "mJ9repylYD70"
      },
      "source": [
        "# <font color='red' style='font-size: 30px;'>Análises Preliminares</font>\n",
        "<hr style='border: 2px solid red;'>"
      ]
    },
    {
      "cell_type": "markdown",
      "metadata": {
        "id": "VquA3lE6YD71"
      },
      "source": [
        "## Estatísticas descritivas"
      ]
    },
    {
      "cell_type": "code",
      "execution_count": 46,
      "metadata": {
        "colab": {
          "base_uri": "https://localhost:8080/",
          "height": 300
        },
        "id": "4q7SAIIgYD71",
        "outputId": "c81adde3-52c2-4db0-907a-c6c30f131c07"
      },
      "outputs": [
        {
          "output_type": "execute_result",
          "data": {
            "text/plain": [
              "         precos     area  garagem  banheiros  lareira  marmore  andares\n",
              "count   1000.00  1000.00  1000.00    1000.00  1000.00  1000.00  1000.00\n",
              "mean   41985.60   124.33     2.01       3.00     2.03     0.33     0.48\n",
              "std    12140.39    72.39     0.81       1.43     1.42     0.47     0.50\n",
              "min    13150.00     1.00     1.00       1.00     0.00     0.00     0.00\n",
              "25%    33112.50    60.75     1.00       2.00     1.00     0.00     0.00\n",
              "50%    41725.00   123.00     2.00       3.00     2.00     0.00     0.00\n",
              "75%    51175.00   187.00     3.00       4.00     3.00     1.00     1.00\n",
              "max    73675.00   249.00     3.00       5.00     4.00     1.00     1.00"
            ],
            "text/html": [
              "\n",
              "  <div id=\"df-8d0b1aee-928a-4560-b065-11e935010c98\">\n",
              "    <div class=\"colab-df-container\">\n",
              "      <div>\n",
              "<style scoped>\n",
              "    .dataframe tbody tr th:only-of-type {\n",
              "        vertical-align: middle;\n",
              "    }\n",
              "\n",
              "    .dataframe tbody tr th {\n",
              "        vertical-align: top;\n",
              "    }\n",
              "\n",
              "    .dataframe thead th {\n",
              "        text-align: right;\n",
              "    }\n",
              "</style>\n",
              "<table border=\"1\" class=\"dataframe\">\n",
              "  <thead>\n",
              "    <tr style=\"text-align: right;\">\n",
              "      <th></th>\n",
              "      <th>precos</th>\n",
              "      <th>area</th>\n",
              "      <th>garagem</th>\n",
              "      <th>banheiros</th>\n",
              "      <th>lareira</th>\n",
              "      <th>marmore</th>\n",
              "      <th>andares</th>\n",
              "    </tr>\n",
              "  </thead>\n",
              "  <tbody>\n",
              "    <tr>\n",
              "      <th>count</th>\n",
              "      <td>1000.00</td>\n",
              "      <td>1000.00</td>\n",
              "      <td>1000.00</td>\n",
              "      <td>1000.00</td>\n",
              "      <td>1000.00</td>\n",
              "      <td>1000.00</td>\n",
              "      <td>1000.00</td>\n",
              "    </tr>\n",
              "    <tr>\n",
              "      <th>mean</th>\n",
              "      <td>41985.60</td>\n",
              "      <td>124.33</td>\n",
              "      <td>2.01</td>\n",
              "      <td>3.00</td>\n",
              "      <td>2.03</td>\n",
              "      <td>0.33</td>\n",
              "      <td>0.48</td>\n",
              "    </tr>\n",
              "    <tr>\n",
              "      <th>std</th>\n",
              "      <td>12140.39</td>\n",
              "      <td>72.39</td>\n",
              "      <td>0.81</td>\n",
              "      <td>1.43</td>\n",
              "      <td>1.42</td>\n",
              "      <td>0.47</td>\n",
              "      <td>0.50</td>\n",
              "    </tr>\n",
              "    <tr>\n",
              "      <th>min</th>\n",
              "      <td>13150.00</td>\n",
              "      <td>1.00</td>\n",
              "      <td>1.00</td>\n",
              "      <td>1.00</td>\n",
              "      <td>0.00</td>\n",
              "      <td>0.00</td>\n",
              "      <td>0.00</td>\n",
              "    </tr>\n",
              "    <tr>\n",
              "      <th>25%</th>\n",
              "      <td>33112.50</td>\n",
              "      <td>60.75</td>\n",
              "      <td>1.00</td>\n",
              "      <td>2.00</td>\n",
              "      <td>1.00</td>\n",
              "      <td>0.00</td>\n",
              "      <td>0.00</td>\n",
              "    </tr>\n",
              "    <tr>\n",
              "      <th>50%</th>\n",
              "      <td>41725.00</td>\n",
              "      <td>123.00</td>\n",
              "      <td>2.00</td>\n",
              "      <td>3.00</td>\n",
              "      <td>2.00</td>\n",
              "      <td>0.00</td>\n",
              "      <td>0.00</td>\n",
              "    </tr>\n",
              "    <tr>\n",
              "      <th>75%</th>\n",
              "      <td>51175.00</td>\n",
              "      <td>187.00</td>\n",
              "      <td>3.00</td>\n",
              "      <td>4.00</td>\n",
              "      <td>3.00</td>\n",
              "      <td>1.00</td>\n",
              "      <td>1.00</td>\n",
              "    </tr>\n",
              "    <tr>\n",
              "      <th>max</th>\n",
              "      <td>73675.00</td>\n",
              "      <td>249.00</td>\n",
              "      <td>3.00</td>\n",
              "      <td>5.00</td>\n",
              "      <td>4.00</td>\n",
              "      <td>1.00</td>\n",
              "      <td>1.00</td>\n",
              "    </tr>\n",
              "  </tbody>\n",
              "</table>\n",
              "</div>\n",
              "      <button class=\"colab-df-convert\" onclick=\"convertToInteractive('df-8d0b1aee-928a-4560-b065-11e935010c98')\"\n",
              "              title=\"Convert this dataframe to an interactive table.\"\n",
              "              style=\"display:none;\">\n",
              "        \n",
              "  <svg xmlns=\"http://www.w3.org/2000/svg\" height=\"24px\"viewBox=\"0 0 24 24\"\n",
              "       width=\"24px\">\n",
              "    <path d=\"M0 0h24v24H0V0z\" fill=\"none\"/>\n",
              "    <path d=\"M18.56 5.44l.94 2.06.94-2.06 2.06-.94-2.06-.94-.94-2.06-.94 2.06-2.06.94zm-11 1L8.5 8.5l.94-2.06 2.06-.94-2.06-.94L8.5 2.5l-.94 2.06-2.06.94zm10 10l.94 2.06.94-2.06 2.06-.94-2.06-.94-.94-2.06-.94 2.06-2.06.94z\"/><path d=\"M17.41 7.96l-1.37-1.37c-.4-.4-.92-.59-1.43-.59-.52 0-1.04.2-1.43.59L10.3 9.45l-7.72 7.72c-.78.78-.78 2.05 0 2.83L4 21.41c.39.39.9.59 1.41.59.51 0 1.02-.2 1.41-.59l7.78-7.78 2.81-2.81c.8-.78.8-2.07 0-2.86zM5.41 20L4 18.59l7.72-7.72 1.47 1.35L5.41 20z\"/>\n",
              "  </svg>\n",
              "      </button>\n",
              "      \n",
              "  <style>\n",
              "    .colab-df-container {\n",
              "      display:flex;\n",
              "      flex-wrap:wrap;\n",
              "      gap: 12px;\n",
              "    }\n",
              "\n",
              "    .colab-df-convert {\n",
              "      background-color: #E8F0FE;\n",
              "      border: none;\n",
              "      border-radius: 50%;\n",
              "      cursor: pointer;\n",
              "      display: none;\n",
              "      fill: #1967D2;\n",
              "      height: 32px;\n",
              "      padding: 0 0 0 0;\n",
              "      width: 32px;\n",
              "    }\n",
              "\n",
              "    .colab-df-convert:hover {\n",
              "      background-color: #E2EBFA;\n",
              "      box-shadow: 0px 1px 2px rgba(60, 64, 67, 0.3), 0px 1px 3px 1px rgba(60, 64, 67, 0.15);\n",
              "      fill: #174EA6;\n",
              "    }\n",
              "\n",
              "    [theme=dark] .colab-df-convert {\n",
              "      background-color: #3B4455;\n",
              "      fill: #D2E3FC;\n",
              "    }\n",
              "\n",
              "    [theme=dark] .colab-df-convert:hover {\n",
              "      background-color: #434B5C;\n",
              "      box-shadow: 0px 1px 3px 1px rgba(0, 0, 0, 0.15);\n",
              "      filter: drop-shadow(0px 1px 2px rgba(0, 0, 0, 0.3));\n",
              "      fill: #FFFFFF;\n",
              "    }\n",
              "  </style>\n",
              "\n",
              "      <script>\n",
              "        const buttonEl =\n",
              "          document.querySelector('#df-8d0b1aee-928a-4560-b065-11e935010c98 button.colab-df-convert');\n",
              "        buttonEl.style.display =\n",
              "          google.colab.kernel.accessAllowed ? 'block' : 'none';\n",
              "\n",
              "        async function convertToInteractive(key) {\n",
              "          const element = document.querySelector('#df-8d0b1aee-928a-4560-b065-11e935010c98');\n",
              "          const dataTable =\n",
              "            await google.colab.kernel.invokeFunction('convertToInteractive',\n",
              "                                                     [key], {});\n",
              "          if (!dataTable) return;\n",
              "\n",
              "          const docLinkHtml = 'Like what you see? Visit the ' +\n",
              "            '<a target=\"_blank\" href=https://colab.research.google.com/notebooks/data_table.ipynb>data table notebook</a>'\n",
              "            + ' to learn more about interactive tables.';\n",
              "          element.innerHTML = '';\n",
              "          dataTable['output_type'] = 'display_data';\n",
              "          await google.colab.output.renderOutput(dataTable, element);\n",
              "          const docLink = document.createElement('div');\n",
              "          docLink.innerHTML = docLinkHtml;\n",
              "          element.appendChild(docLink);\n",
              "        }\n",
              "      </script>\n",
              "    </div>\n",
              "  </div>\n",
              "  "
            ]
          },
          "metadata": {},
          "execution_count": 46
        }
      ],
      "source": [
        "df.describe().round(2)"
      ]
    },
    {
      "cell_type": "markdown",
      "metadata": {
        "id": "3CFhVBTzYD72"
      },
      "source": [
        "## Matriz de correlação\n",
        "\n",
        "<p style='font-size: 18px; line-height: 2; margin: 10px 50px; text-align: justify;'>O <b>coeficiente de correlação</b> é uma medida de associação linear entre duas variáveis e situa-se entre <b>-1</b> e <b>+1</b> sendo que <b>-1</b> indica associação negativa perfeita e <b>+1</b> indica associação positiva perfeita.</p>\n",
        "\n",
        "### Observe as correlações entre as variáveis:\n",
        "<ul style='font-size: 16px; line-height: 2; text-align: justify;'>\n",
        "    <li>Quais são mais correlacionadas com a variável dependete (Preço)?</li>\n",
        "    <li>Qual o relacionamento entre elas (positivo ou negativo)?</li>\n",
        "    <li>Existe correlação forte entre as variáveis explicativas?</li>\n",
        "</ul>"
      ]
    },
    {
      "cell_type": "code",
      "execution_count": 9,
      "metadata": {
        "colab": {
          "base_uri": "https://localhost:8080/",
          "height": 269
        },
        "id": "Ih-e8FvKYD72",
        "outputId": "c7db64ea-61e2-478f-d126-2118df7e1325"
      },
      "outputs": [
        {
          "output_type": "execute_result",
          "data": {
            "text/plain": [
              "           precos    area  garagem  banheiros  lareira  marmore  andares\n",
              "precos     1.0000  0.1177   0.1028     0.1244   0.1072   0.4308   0.6315\n",
              "area       0.1177  1.0000  -0.0075    -0.0114   0.0121  -0.0153  -0.0180\n",
              "garagem    0.1028 -0.0075   1.0000     0.0671   0.0605  -0.0156  -0.0206\n",
              "banheiros  0.1244 -0.0114   0.0671     1.0000   0.0484  -0.0253  -0.0182\n",
              "lareira    0.1072  0.0121   0.0605     0.0484   1.0000   0.0296  -0.0035\n",
              "marmore    0.4308 -0.0153  -0.0156    -0.0253   0.0296   1.0000  -0.0065\n",
              "andares    0.6315 -0.0180  -0.0206    -0.0182  -0.0035  -0.0065   1.0000"
            ],
            "text/html": [
              "\n",
              "  <div id=\"df-6818d82b-3deb-4cec-8d13-7acb0b45ea9b\">\n",
              "    <div class=\"colab-df-container\">\n",
              "      <div>\n",
              "<style scoped>\n",
              "    .dataframe tbody tr th:only-of-type {\n",
              "        vertical-align: middle;\n",
              "    }\n",
              "\n",
              "    .dataframe tbody tr th {\n",
              "        vertical-align: top;\n",
              "    }\n",
              "\n",
              "    .dataframe thead th {\n",
              "        text-align: right;\n",
              "    }\n",
              "</style>\n",
              "<table border=\"1\" class=\"dataframe\">\n",
              "  <thead>\n",
              "    <tr style=\"text-align: right;\">\n",
              "      <th></th>\n",
              "      <th>precos</th>\n",
              "      <th>area</th>\n",
              "      <th>garagem</th>\n",
              "      <th>banheiros</th>\n",
              "      <th>lareira</th>\n",
              "      <th>marmore</th>\n",
              "      <th>andares</th>\n",
              "    </tr>\n",
              "  </thead>\n",
              "  <tbody>\n",
              "    <tr>\n",
              "      <th>precos</th>\n",
              "      <td>1.0000</td>\n",
              "      <td>0.1177</td>\n",
              "      <td>0.1028</td>\n",
              "      <td>0.1244</td>\n",
              "      <td>0.1072</td>\n",
              "      <td>0.4308</td>\n",
              "      <td>0.6315</td>\n",
              "    </tr>\n",
              "    <tr>\n",
              "      <th>area</th>\n",
              "      <td>0.1177</td>\n",
              "      <td>1.0000</td>\n",
              "      <td>-0.0075</td>\n",
              "      <td>-0.0114</td>\n",
              "      <td>0.0121</td>\n",
              "      <td>-0.0153</td>\n",
              "      <td>-0.0180</td>\n",
              "    </tr>\n",
              "    <tr>\n",
              "      <th>garagem</th>\n",
              "      <td>0.1028</td>\n",
              "      <td>-0.0075</td>\n",
              "      <td>1.0000</td>\n",
              "      <td>0.0671</td>\n",
              "      <td>0.0605</td>\n",
              "      <td>-0.0156</td>\n",
              "      <td>-0.0206</td>\n",
              "    </tr>\n",
              "    <tr>\n",
              "      <th>banheiros</th>\n",
              "      <td>0.1244</td>\n",
              "      <td>-0.0114</td>\n",
              "      <td>0.0671</td>\n",
              "      <td>1.0000</td>\n",
              "      <td>0.0484</td>\n",
              "      <td>-0.0253</td>\n",
              "      <td>-0.0182</td>\n",
              "    </tr>\n",
              "    <tr>\n",
              "      <th>lareira</th>\n",
              "      <td>0.1072</td>\n",
              "      <td>0.0121</td>\n",
              "      <td>0.0605</td>\n",
              "      <td>0.0484</td>\n",
              "      <td>1.0000</td>\n",
              "      <td>0.0296</td>\n",
              "      <td>-0.0035</td>\n",
              "    </tr>\n",
              "    <tr>\n",
              "      <th>marmore</th>\n",
              "      <td>0.4308</td>\n",
              "      <td>-0.0153</td>\n",
              "      <td>-0.0156</td>\n",
              "      <td>-0.0253</td>\n",
              "      <td>0.0296</td>\n",
              "      <td>1.0000</td>\n",
              "      <td>-0.0065</td>\n",
              "    </tr>\n",
              "    <tr>\n",
              "      <th>andares</th>\n",
              "      <td>0.6315</td>\n",
              "      <td>-0.0180</td>\n",
              "      <td>-0.0206</td>\n",
              "      <td>-0.0182</td>\n",
              "      <td>-0.0035</td>\n",
              "      <td>-0.0065</td>\n",
              "      <td>1.0000</td>\n",
              "    </tr>\n",
              "  </tbody>\n",
              "</table>\n",
              "</div>\n",
              "      <button class=\"colab-df-convert\" onclick=\"convertToInteractive('df-6818d82b-3deb-4cec-8d13-7acb0b45ea9b')\"\n",
              "              title=\"Convert this dataframe to an interactive table.\"\n",
              "              style=\"display:none;\">\n",
              "        \n",
              "  <svg xmlns=\"http://www.w3.org/2000/svg\" height=\"24px\"viewBox=\"0 0 24 24\"\n",
              "       width=\"24px\">\n",
              "    <path d=\"M0 0h24v24H0V0z\" fill=\"none\"/>\n",
              "    <path d=\"M18.56 5.44l.94 2.06.94-2.06 2.06-.94-2.06-.94-.94-2.06-.94 2.06-2.06.94zm-11 1L8.5 8.5l.94-2.06 2.06-.94-2.06-.94L8.5 2.5l-.94 2.06-2.06.94zm10 10l.94 2.06.94-2.06 2.06-.94-2.06-.94-.94-2.06-.94 2.06-2.06.94z\"/><path d=\"M17.41 7.96l-1.37-1.37c-.4-.4-.92-.59-1.43-.59-.52 0-1.04.2-1.43.59L10.3 9.45l-7.72 7.72c-.78.78-.78 2.05 0 2.83L4 21.41c.39.39.9.59 1.41.59.51 0 1.02-.2 1.41-.59l7.78-7.78 2.81-2.81c.8-.78.8-2.07 0-2.86zM5.41 20L4 18.59l7.72-7.72 1.47 1.35L5.41 20z\"/>\n",
              "  </svg>\n",
              "      </button>\n",
              "      \n",
              "  <style>\n",
              "    .colab-df-container {\n",
              "      display:flex;\n",
              "      flex-wrap:wrap;\n",
              "      gap: 12px;\n",
              "    }\n",
              "\n",
              "    .colab-df-convert {\n",
              "      background-color: #E8F0FE;\n",
              "      border: none;\n",
              "      border-radius: 50%;\n",
              "      cursor: pointer;\n",
              "      display: none;\n",
              "      fill: #1967D2;\n",
              "      height: 32px;\n",
              "      padding: 0 0 0 0;\n",
              "      width: 32px;\n",
              "    }\n",
              "\n",
              "    .colab-df-convert:hover {\n",
              "      background-color: #E2EBFA;\n",
              "      box-shadow: 0px 1px 2px rgba(60, 64, 67, 0.3), 0px 1px 3px 1px rgba(60, 64, 67, 0.15);\n",
              "      fill: #174EA6;\n",
              "    }\n",
              "\n",
              "    [theme=dark] .colab-df-convert {\n",
              "      background-color: #3B4455;\n",
              "      fill: #D2E3FC;\n",
              "    }\n",
              "\n",
              "    [theme=dark] .colab-df-convert:hover {\n",
              "      background-color: #434B5C;\n",
              "      box-shadow: 0px 1px 3px 1px rgba(0, 0, 0, 0.15);\n",
              "      filter: drop-shadow(0px 1px 2px rgba(0, 0, 0, 0.3));\n",
              "      fill: #FFFFFF;\n",
              "    }\n",
              "  </style>\n",
              "\n",
              "      <script>\n",
              "        const buttonEl =\n",
              "          document.querySelector('#df-6818d82b-3deb-4cec-8d13-7acb0b45ea9b button.colab-df-convert');\n",
              "        buttonEl.style.display =\n",
              "          google.colab.kernel.accessAllowed ? 'block' : 'none';\n",
              "\n",
              "        async function convertToInteractive(key) {\n",
              "          const element = document.querySelector('#df-6818d82b-3deb-4cec-8d13-7acb0b45ea9b');\n",
              "          const dataTable =\n",
              "            await google.colab.kernel.invokeFunction('convertToInteractive',\n",
              "                                                     [key], {});\n",
              "          if (!dataTable) return;\n",
              "\n",
              "          const docLinkHtml = 'Like what you see? Visit the ' +\n",
              "            '<a target=\"_blank\" href=https://colab.research.google.com/notebooks/data_table.ipynb>data table notebook</a>'\n",
              "            + ' to learn more about interactive tables.';\n",
              "          element.innerHTML = '';\n",
              "          dataTable['output_type'] = 'display_data';\n",
              "          await google.colab.output.renderOutput(dataTable, element);\n",
              "          const docLink = document.createElement('div');\n",
              "          docLink.innerHTML = docLinkHtml;\n",
              "          element.appendChild(docLink);\n",
              "        }\n",
              "      </script>\n",
              "    </div>\n",
              "  </div>\n",
              "  "
            ]
          },
          "metadata": {},
          "execution_count": 9
        }
      ],
      "source": [
        "df.corr().round(4)"
      ]
    },
    {
      "cell_type": "markdown",
      "metadata": {
        "id": "THmKXDBwYD72"
      },
      "source": [
        "# <font color='red' style='font-size: 30px;'>Comportamento da Variável Dependente (Y)</font>\n",
        "<hr style='border: 2px solid red;'>"
      ]
    },
    {
      "cell_type": "markdown",
      "metadata": {
        "id": "KmSgR-cYYD73"
      },
      "source": [
        "# Análises gráficas"
      ]
    },
    {
      "cell_type": "markdown",
      "metadata": {
        "id": "HWPHxs8jYD73"
      },
      "source": [
        "![Box-Plot.png](data:image/png;base64,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)"
      ]
    },
    {
      "cell_type": "markdown",
      "metadata": {
        "id": "XclOr3INYD74"
      },
      "source": [
        "## Importando biblioteca seaborn"
      ]
    },
    {
      "cell_type": "code",
      "execution_count": 10,
      "metadata": {
        "id": "nJtTIh9TYD76"
      },
      "outputs": [],
      "source": [
        "import seaborn as sns"
      ]
    },
    {
      "cell_type": "markdown",
      "metadata": {
        "id": "dFilrpIEYD77"
      },
      "source": [
        "## Configure o estilo e cor dos gráficos (opcional)"
      ]
    },
    {
      "cell_type": "code",
      "execution_count": 11,
      "metadata": {
        "id": "iVS7hwcYYD78"
      },
      "outputs": [],
      "source": [
        "sns.set_palette(\"Accent\")\n",
        "sns.set_style(\"darkgrid\")"
      ]
    },
    {
      "cell_type": "markdown",
      "metadata": {
        "id": "dywBkPIzYD8C"
      },
      "source": [
        "## Box plot da variável *dependente* (y)\n",
        "\n",
        "\n",
        "### Avalie o comportamento da distribuição da variável dependente:\n",
        "<ul style='font-size: 16px; line-height: 2; text-align: justify;'>\n",
        "    <li>Parecem existir valores discrepantes (outliers)?</li>\n",
        "    <li>O box plot apresenta alguma tendência?</li>\n",
        "</ul>"
      ]
    },
    {
      "cell_type": "markdown",
      "metadata": {
        "id": "-P3xtgx8YD8C"
      },
      "source": [
        "https://seaborn.pydata.org/generated/seaborn.boxplot.html?highlight=boxplot#seaborn.boxplot"
      ]
    },
    {
      "cell_type": "code",
      "execution_count": 13,
      "metadata": {
        "colab": {
          "base_uri": "https://localhost:8080/",
          "height": 413
        },
        "id": "01wXdyf3YD8D",
        "outputId": "8f7b7080-6484-4d82-eef1-d47b534e9e14"
      },
      "outputs": [
        {
          "output_type": "execute_result",
          "data": {
            "text/plain": [
              "Text(0.5, 1.0, 'Preço dos Imóveis')"
            ]
          },
          "metadata": {},
          "execution_count": 13
        },
        {
          "output_type": "display_data",
          "data": {
            "text/plain": [
              "<Figure size 864x432 with 1 Axes>"
            ],
            "image/png": "[encoded data removed]"
          },
          "metadata": {}
        }
      ],
      "source": [
        "ax = sns.boxplot(data=df[\"precos\"], \n",
        "                 orient = 'h',\n",
        "                 width = 0.2)\n",
        "ax.figure.set_size_inches(12, 6)\n",
        "ax.set_title('Preço dos Imóveis', fontsize = 20)"
      ]
    },
    {
      "cell_type": "markdown",
      "metadata": {
        "id": "hhJ9LY7MYD8F"
      },
      "source": [
        "## Investigando a variável *dependente* (y) juntamente com outras característica\n",
        "\n",
        "Faça um box plot da variável dependente em conjunto com cada variável explicativa (somente as categóricas).\n",
        "\n",
        "### Avalie o comportamento da distribuição da variável dependente com cada variável explicativa categórica:\n",
        "<ul style='font-size: 16px; line-height: 2; text-align: justify;'>\n",
        "    <li>As estatísticas apresentam mudança significativa entre as categorias?</li>\n",
        "    <li>O box plot apresenta alguma tendência bem definida?</li>\n",
        "</ul>"
      ]
    },
    {
      "cell_type": "markdown",
      "metadata": {
        "id": "3BZx9RSsYD8F"
      },
      "source": [
        "### Box-plot (Preço X Garagem)"
      ]
    },
    {
      "cell_type": "code",
      "execution_count": 15,
      "metadata": {
        "colab": {
          "base_uri": "https://localhost:8080/",
          "height": 427
        },
        "id": "CbEb0WzYYD8G",
        "outputId": "4fc3127f-b413-47c1-a2b1-14a0adbeb1e4"
      },
      "outputs": [
        {
          "output_type": "execute_result",
          "data": {
            "text/plain": [
              "Text(0, 0.5, 'N° de Vagas de Garagem')"
            ]
          },
          "metadata": {},
          "execution_count": 15
        },
        {
          "output_type": "display_data",
          "data": {
            "text/plain": [
              "<Figure size 864x432 with 1 Axes>"
            ],
            "image/png": "[encoded data removed]"
          },
          "metadata": {}
        }
      ],
      "source": [
        "ax = sns.boxplot(x = 'precos',\n",
        "                 y = 'garagem',\n",
        "                 data=df, \n",
        "                 orient = 'h',\n",
        "                 width = 0.5)\n",
        "ax.figure.set_size_inches(12, 6)\n",
        "ax.set_title('Preço dos Imóveis', fontsize = 20)\n",
        "ax.set_xlabel('Preço')\n",
        "ax.set_ylabel('N° de Vagas de Garagem')"
      ]
    },
    {
      "cell_type": "markdown",
      "metadata": {
        "id": "rWdXiCc0YD8G"
      },
      "source": [
        "### Box-plot (Preço X Banheiros)"
      ]
    },
    {
      "cell_type": "code",
      "execution_count": 16,
      "metadata": {
        "colab": {
          "base_uri": "https://localhost:8080/",
          "height": 427
        },
        "id": "fxYWaJBNYD8G",
        "outputId": "8d91e04a-43de-4a71-c48c-f142a8236c08"
      },
      "outputs": [
        {
          "output_type": "execute_result",
          "data": {
            "text/plain": [
              "Text(0, 0.5, 'N° de Banheiros')"
            ]
          },
          "metadata": {},
          "execution_count": 16
        },
        {
          "output_type": "display_data",
          "data": {
            "text/plain": [
              "<Figure size 864x432 with 1 Axes>"
            ],
            "image/png": "[encoded data removed]"
          },
          "metadata": {}
        }
      ],
      "source": [
        "ax = sns.boxplot(x = 'precos',\n",
        "                 y = 'banheiros',\n",
        "                 data=df, \n",
        "                 orient = 'h',\n",
        "                 width = 0.5)\n",
        "ax.figure.set_size_inches(12, 6)\n",
        "ax.set_title('Preço dos Imóveis', fontsize = 20)\n",
        "ax.set_xlabel('Preço')\n",
        "ax.set_ylabel('N° de Banheiros')"
      ]
    },
    {
      "cell_type": "markdown",
      "metadata": {
        "id": "vrSK_eUDYD8G"
      },
      "source": [
        "### Box-plot (Preço X Lareira)"
      ]
    },
    {
      "cell_type": "code",
      "execution_count": 17,
      "metadata": {
        "colab": {
          "base_uri": "https://localhost:8080/",
          "height": 427
        },
        "id": "DpftqkX5YD8H",
        "outputId": "e0793d9c-77cc-492a-e0fe-1816cd5832c5"
      },
      "outputs": [
        {
          "output_type": "execute_result",
          "data": {
            "text/plain": [
              "Text(0, 0.5, 'N° de Lareiras')"
            ]
          },
          "metadata": {},
          "execution_count": 17
        },
        {
          "output_type": "display_data",
          "data": {
            "text/plain": [
              "<Figure size 864x432 with 1 Axes>"
            ],
            "image/png": "[encoded data removed]"
          },
          "metadata": {}
        }
      ],
      "source": [
        "ax = sns.boxplot(x = 'precos',\n",
        "                 y = 'lareira',\n",
        "                 data=df, \n",
        "                 orient = 'h',\n",
        "                 width = 0.5)\n",
        "ax.figure.set_size_inches(12, 6)\n",
        "ax.set_title('Preço dos Imóveis', fontsize = 20)\n",
        "ax.set_xlabel('Preço')\n",
        "ax.set_ylabel('N° de Lareiras')"
      ]
    },
    {
      "cell_type": "markdown",
      "metadata": {
        "id": "31bvK6H7YD8H"
      },
      "source": [
        "### Box-plot (Preço X Acabamento em Mármore)"
      ]
    },
    {
      "cell_type": "code",
      "execution_count": 18,
      "metadata": {
        "colab": {
          "base_uri": "https://localhost:8080/",
          "height": 427
        },
        "id": "ONkHWZKmYD8H",
        "outputId": "e7f3486f-3836-4e03-93ca-79cb9b0c1b22"
      },
      "outputs": [
        {
          "output_type": "execute_result",
          "data": {
            "text/plain": [
              "Text(0, 0.5, 'Acabamento em Mármore')"
            ]
          },
          "metadata": {},
          "execution_count": 18
        },
        {
          "output_type": "display_data",
          "data": {
            "text/plain": [
              "<Figure size 864x432 with 1 Axes>"
            ],
            "image/png": "[encoded data removed]"
          },
          "metadata": {}
        }
      ],
      "source": [
        "ax = sns.boxplot(x = 'precos',\n",
        "                 y = 'marmore',\n",
        "                 data=df, \n",
        "                 orient = 'h',\n",
        "                 width = 0.5)\n",
        "ax.figure.set_size_inches(12, 6)\n",
        "ax.set_title('Preço dos Imóveis', fontsize = 20)\n",
        "ax.set_xlabel('Preço')\n",
        "ax.set_ylabel('Acabamento em Mármore')"
      ]
    },
    {
      "cell_type": "markdown",
      "metadata": {
        "id": "4i9_t-amYD8H"
      },
      "source": [
        "### Box-plot (Preço X Andares)"
      ]
    },
    {
      "cell_type": "code",
      "execution_count": 19,
      "metadata": {
        "colab": {
          "base_uri": "https://localhost:8080/",
          "height": 427
        },
        "id": "r94t8Od_YD8I",
        "outputId": "37414206-658b-41e5-d2e2-2e9e61dde1ff"
      },
      "outputs": [
        {
          "output_type": "execute_result",
          "data": {
            "text/plain": [
              "Text(0, 0.5, 'N° de Andares')"
            ]
          },
          "metadata": {},
          "execution_count": 19
        },
        {
          "output_type": "display_data",
          "data": {
            "text/plain": [
              "<Figure size 864x432 with 1 Axes>"
            ],
            "image/png": "[encoded data removed]"
          },
          "metadata": {}
        }
      ],
      "source": [
        "ax = sns.boxplot(x = 'precos',\n",
        "                 y = 'andares',\n",
        "                 data=df, \n",
        "                 orient = 'h',\n",
        "                 width = 0.5)\n",
        "ax.figure.set_size_inches(12, 6)\n",
        "ax.set_title('Preço dos Imóveis', fontsize = 20)\n",
        "ax.set_xlabel('Preço')\n",
        "ax.set_ylabel('N° de Andares')"
      ]
    },
    {
      "cell_type": "markdown",
      "metadata": {
        "id": "gnXa2he1YD8I"
      },
      "source": [
        "## Distribuição de frequências da variável *dependente* (y)\n",
        "\n",
        "Construa um histograma da variável dependente (Preço).\n",
        "\n",
        "### Avalie:\n",
        "<ul style='font-size: 16px; line-height: 2; text-align: justify;'>\n",
        "    <li>A distribuição de frequências da variável dependente parece ser assimétrica?</li>\n",
        "    <li>É possível supor que a variável dependente segue uma distribuição normal?</li>\n",
        "</ul>"
      ]
    },
    {
      "cell_type": "markdown",
      "metadata": {
        "id": "3hqROng_YD8J"
      },
      "source": [
        "https://seaborn.pydata.org/generated/seaborn.distplot.html?highlight=distplot#seaborn.distplot"
      ]
    },
    {
      "cell_type": "code",
      "execution_count": 20,
      "metadata": {
        "colab": {
          "base_uri": "https://localhost:8080/",
          "height": 427
        },
        "id": "o_oG00G4YD8J",
        "outputId": "bab75142-6b37-4138-a9d9-6198da7b1c9e"
      },
      "outputs": [
        {
          "output_type": "execute_result",
          "data": {
            "text/plain": [
              "Text(0, 0.5, 'Preço dos Imóveis')"
            ]
          },
          "metadata": {},
          "execution_count": 20
        },
        {
          "output_type": "display_data",
          "data": {
            "text/plain": [
              "<Figure size 864x432 with 1 Axes>"
            ],
            "image/png": "[encoded data removed]"
          },
          "metadata": {}
        }
      ],
      "source": [
        "ax = sns.distplot(df['precos'])\n",
        "ax.figure.set_size_inches(12, 6)\n",
        "ax.set_title('Distribuição de Frequência', fontsize = 20)\n",
        "ax.set_ylabel('Preço dos Imóveis')"
      ]
    },
    {
      "cell_type": "markdown",
      "metadata": {
        "id": "T0I-rEqqYD8J"
      },
      "source": [
        "## Gráficos de dispersão entre as variáveis do dataset"
      ]
    },
    {
      "cell_type": "markdown",
      "metadata": {
        "id": "4DsaAlvIYD8K"
      },
      "source": [
        "## Plotando o pairplot fixando somente uma variável no eixo y\n",
        "\n",
        "https://seaborn.pydata.org/generated/seaborn.pairplot.html?highlight=pairplot#seaborn.pairplot\n",
        "\n",
        "Plote gráficos de dispersão da variável dependente contra cada variável explicativa. Utilize o pairplot da biblioteca seaborn para isso.\n",
        "\n",
        "Plote o mesmo gráfico utilizando o parâmetro kind='reg'.\n",
        "\n",
        "### Avalie:\n",
        "<ul style='font-size: 16px; line-height: 2; text-align: justify;'>\n",
        "    <li>É possível identificar alguma relação linear entre as variáveis?</li>\n",
        "    <li>A relação é positiva ou negativa?</li>\n",
        "    <li>Compare com os resultados obtidos na matriz de correlação.</li>\n",
        "</ul>"
      ]
    },
    {
      "cell_type": "code",
      "execution_count": 47,
      "metadata": {
        "colab": {
          "base_uri": "https://localhost:8080/",
          "height": 208
        },
        "id": "73D6LG6VYD8K",
        "outputId": "bdc12d10-9e30-47c5-9b43-79f108275977"
      },
      "outputs": [
        {
          "output_type": "execute_result",
          "data": {
            "text/plain": [
              "Text(0.5, 1.05, 'Dispersão entre as Variáveis')"
            ]
          },
          "metadata": {},
          "execution_count": 47
        },
        {
          "output_type": "display_data",
          "data": {
            "text/plain": [
              "<Figure size 1080x180 with 6 Axes>"
            ],
            "image/png": "[encoded data removed]"
          },
          "metadata": {}
        }
      ],
      "source": [
        "ax = sns.pairplot(df, y_vars = 'precos', \n",
        "                  x_vars = ['area', 'garagem', 'banheiros', 'lareira', 'marmore', 'andares'])\n",
        "ax.fig.suptitle('Dispersão entre as Variáveis', fontsize = 14, y = 1.05)"
      ]
    },
    {
      "cell_type": "code",
      "execution_count": 49,
      "metadata": {
        "colab": {
          "base_uri": "https://localhost:8080/",
          "height": 208
        },
        "id": "rsiC6tfQYD8K",
        "outputId": "1a2fc49b-74d0-46a1-96b2-49285a5b6092"
      },
      "outputs": [
        {
          "output_type": "execute_result",
          "data": {
            "text/plain": [
              "Text(0.5, 1.05, 'Dispersão entre as Variáveis')"
            ]
          },
          "metadata": {},
          "execution_count": 49
        },
        {
          "output_type": "display_data",
          "data": {
            "text/plain": [
              "<Figure size 1080x180 with 6 Axes>"
            ],
            "image/png": "[encoded data removed]"
          },
          "metadata": {}
        }
      ],
      "source": [
        "ax = sns.pairplot(df, y_vars = 'precos', \n",
        "                  x_vars = ['area', 'garagem', 'banheiros', 'lareira', 'marmore', 'andares'],\n",
        "                  kind = 'reg', plot_kws={'line_kws':{'color':'red'}})\n",
        "ax.fig.suptitle('Dispersão entre as Variáveis', fontsize = 14, y = 1.05)"
      ]
    },
    {
      "cell_type": "markdown",
      "metadata": {
        "id": "kFqPNCLJYD8K"
      },
      "source": [
        "# <font color='red' style='font-size: 30px;'>Estimando um Modelo de Regressão Linear</font>\n",
        "<hr style='border: 2px solid red;'>"
      ]
    },
    {
      "cell_type": "markdown",
      "metadata": {
        "id": "CoODoItwYD8L"
      },
      "source": [
        "## Importando o *train_test_split* da biblioteca *scikit-learn*\n",
        "\n",
        "https://scikit-learn.org/stable/modules/generated/sklearn.model_selection.train_test_split.html"
      ]
    },
    {
      "cell_type": "code",
      "execution_count": 23,
      "metadata": {
        "id": "pafEIkb1YD8L"
      },
      "outputs": [],
      "source": [
        "from sklearn.model_selection import train_test_split"
      ]
    },
    {
      "cell_type": "markdown",
      "metadata": {
        "id": "H8zYc53XYD8L"
      },
      "source": [
        "## Criando uma Series (pandas) para armazenar a variável dependente (y)"
      ]
    },
    {
      "cell_type": "code",
      "execution_count": 24,
      "metadata": {
        "id": "dXANTSXTYD8L"
      },
      "outputs": [],
      "source": [
        "y = df['precos']"
      ]
    },
    {
      "cell_type": "markdown",
      "metadata": {
        "id": "d3GbKAFcYD8L"
      },
      "source": [
        "## Criando um DataFrame (pandas) para armazenar as variáveis explicativas (X)"
      ]
    },
    {
      "cell_type": "code",
      "execution_count": 50,
      "metadata": {
        "id": "HVsSNEh_YD8M"
      },
      "outputs": [],
      "source": [
        "x = df[['area', 'marmore', 'andares', 'garagem', 'banheiros', 'lareira']]"
      ]
    },
    {
      "cell_type": "markdown",
      "metadata": {
        "id": "y_e1O39WYD8M"
      },
      "source": [
        "## Criando os datasets de treino e de teste"
      ]
    },
    {
      "cell_type": "code",
      "execution_count": 61,
      "metadata": {
        "id": "rDRxwYfMYD8M"
      },
      "outputs": [],
      "source": [
        "X_train, X_test, y_train, y_test = train_test_split(x, y, test_size=0.3, random_state=2811)"
      ]
    },
    {
      "cell_type": "markdown",
      "metadata": {
        "id": "AkbO0-HrYD8M"
      },
      "source": [
        "## Importando *LinearRegression* e *metrics* da biblioteca *scikit-learn*\n",
        "\n",
        "https://scikit-learn.org/stable/modules/generated/sklearn.linear_model.LinearRegression.html\n",
        "\n",
        "https://scikit-learn.org/stable/modules/classes.html#regression-metrics"
      ]
    },
    {
      "cell_type": "code",
      "execution_count": 52,
      "metadata": {
        "id": "LS6gKgVNYD8M"
      },
      "outputs": [],
      "source": [
        "from sklearn.linear_model import LinearRegression\n",
        "from sklearn import metrics"
      ]
    },
    {
      "cell_type": "markdown",
      "metadata": {
        "id": "xCJmAppfYD8N"
      },
      "source": [
        "## Instanciando a classe *LinearRegression()*"
      ]
    },
    {
      "cell_type": "code",
      "execution_count": 60,
      "metadata": {
        "id": "YCZQdJc_YD8N"
      },
      "outputs": [],
      "source": [
        "modelo = LinearRegression()"
      ]
    },
    {
      "cell_type": "markdown",
      "metadata": {
        "id": "1FBMkn0eYD8N"
      },
      "source": [
        "## Utilizando o método *fit()* para estimar o modelo linear utilizando os dados de TREINO (y_train e X_train)\n",
        "\n",
        "https://scikit-learn.org/stable/modules/generated/sklearn.linear_model.LinearRegression.html#sklearn.linear_model.LinearRegression.fit"
      ]
    },
    {
      "cell_type": "code",
      "execution_count": 64,
      "metadata": {
        "colab": {
          "base_uri": "https://localhost:8080/"
        },
        "id": "fmeoli93YD8N",
        "outputId": "55dbf308-8935-4355-b1d4-a52ba359e97d"
      },
      "outputs": [
        {
          "output_type": "execute_result",
          "data": {
            "text/plain": [
              "LinearRegression()"
            ]
          },
          "metadata": {},
          "execution_count": 64
        }
      ],
      "source": [
        "modelo.fit(X_train, y_train)\n"
      ]
    },
    {
      "cell_type": "markdown",
      "metadata": {
        "id": "9vCwE3NlYD8N"
      },
      "source": [
        "## Obtendo o coeficiente de determinação (R²) do modelo estimado com os dados de TREINO\n",
        "\n",
        "https://scikit-learn.org/stable/modules/generated/sklearn.linear_model.LinearRegression.html#sklearn.linear_model.LinearRegression.score\n",
        "\n",
        "\n",
        "### Avalie:\n",
        "<ul style='font-size: 16px; line-height: 2; text-align: justify;'>\n",
        "    <li>O modelo apresenta um bom ajuste?</li>\n",
        "    <li>Você lembra o que representa o R²?</li>\n",
        "    <li>Qual medida podemos tomar para melhorar essa estatística?</li>\n",
        "</ul>"
      ]
    },
    {
      "cell_type": "code",
      "execution_count": 65,
      "metadata": {
        "colab": {
          "base_uri": "https://localhost:8080/"
        },
        "id": "CG75aXu2YD8O",
        "outputId": "4616ceab-6b8b-422e-b671-5d2a324ebdda"
      },
      "outputs": [
        {
          "output_type": "stream",
          "name": "stdout",
          "text": [
            "R² = 0.64\n"
          ]
        }
      ],
      "source": [
        "print(f'R² = {modelo.score(X_train, y_train).round(2)}')"
      ]
    },
    {
      "cell_type": "markdown",
      "metadata": {
        "id": "4fy_qDP8YD8O"
      },
      "source": [
        "## Gerando previsões para os dados de TESTE (X_test) utilizando o método *predict()*\n",
        "\n",
        "https://scikit-learn.org/stable/modules/generated/sklearn.linear_model.LinearRegression.html#sklearn.linear_model.LinearRegression.predict"
      ]
    },
    {
      "cell_type": "code",
      "execution_count": 66,
      "metadata": {
        "id": "iRuLJ_EpYD8O"
      },
      "outputs": [],
      "source": [
        "y_previsto = modelo.predict(X_test)"
      ]
    },
    {
      "cell_type": "markdown",
      "metadata": {
        "id": "cIDRAt2BYD8O"
      },
      "source": [
        "## Obtendo o coeficiente de determinação (R²) para as previsões do nosso modelo\n",
        "\n",
        "https://scikit-learn.org/stable/modules/generated/sklearn.metrics.r2_score.html#sklearn.metrics.r2_score"
      ]
    },
    {
      "cell_type": "code",
      "execution_count": 67,
      "metadata": {
        "colab": {
          "base_uri": "https://localhost:8080/"
        },
        "id": "X21Ie2fwYD8O",
        "outputId": "b4516d1b-2461-4b6f-e1b7-856d247d6e82"
      },
      "outputs": [
        {
          "output_type": "stream",
          "name": "stdout",
          "text": [
            "R² = 0.67\n"
          ]
        }
      ],
      "source": [
        "print(f'R² = {metrics.r2_score(y_test, y_previsto).round(2)}')"
      ]
    },
    {
      "cell_type": "markdown",
      "metadata": {
        "id": "UBkHbKw2YD8P"
      },
      "source": [
        "# <font color='red' style='font-size: 30px;'>Obtendo Previsões Pontuais</font>\n",
        "<hr style='border: 2px solid red;'>"
      ]
    },
    {
      "cell_type": "markdown",
      "metadata": {
        "id": "De5D_yuIYD8P"
      },
      "source": [
        "## Criando um simulador simples\n",
        "\n",
        "Crie um simulador que gere estimativas de preço a partir de um conjunto de informações de um imóvel."
      ]
    },
    {
      "cell_type": "code",
      "execution_count": 68,
      "metadata": {
        "colab": {
          "base_uri": "https://localhost:8080/"
        },
        "id": "iEcu-NP_YD8P",
        "outputId": "69b139fb-de14-44e5-888d-6d3ea0a9d0b4"
      },
      "outputs": [
        {
          "output_type": "stream",
          "name": "stdout",
          "text": [
            "O preço estimado do imóvel é de R$ 53088.91\n"
          ]
        }
      ],
      "source": [
        "x = df[['area', 'marmore', 'andares', 'garagem', 'banheiros', 'lareira']]\n",
        "\n",
        "def price_simulator(area, marmore, andares, garagem, banheiros, lareira):\n",
        "  entrada = [[area, marmore, andares, garagem, banheiros, lareira]]\n",
        "  preco = modelo.predict(entrada)[0]\n",
        "  return preco.round(2)\n",
        "\n",
        "area = 70\n",
        "marmore = 1\n",
        "andares = 1\n",
        "garagem = 2\n",
        "banheiros = 2\n",
        "lareira = 0\n",
        "\n",
        "preco = price_simulator(area, marmore, andares, garagem, banheiros, lareira)\n",
        "print(f'O preço estimado do imóvel é de R$ {preco}')"
      ]
    },
    {
      "cell_type": "markdown",
      "metadata": {
        "id": "UQwdYWHqYD8Q"
      },
      "source": [
        "# <font color='red' style='font-size: 30px;'>Métricas de Regressão</font>\n",
        "<hr style='border: 2px solid red;'>"
      ]
    },
    {
      "cell_type": "markdown",
      "metadata": {
        "id": "mHlSRxNZYD8Q"
      },
      "source": [
        "## Métricas da regressão\n",
        "<hr>\n",
        "\n",
        "fonte: https://scikit-learn.org/stable/modules/model_evaluation.html#regression-metrics\n",
        "\n",
        "Algumas estatísticas obtidas do modelo de regressão são muito úteis como critério de comparação entre modelos estimados e de seleção do melhor modelo, as principais métricas de regressão que o scikit-learn disponibiliza para modelos lineares são as seguintes:\n",
        "\n",
        "### Erro Quadrático Médio\n",
        "\n",
        "Média dos quadrados dos erros. Ajustes melhores apresentam $EQM$ mais baixo.\n",
        "\n",
        "$$EQM(y, \\hat{y}) = \\frac 1n\\sum_{i=0}^{n-1}(y_i-\\hat{y}_i)^2$$\n",
        "\n",
        "### Raíz do Erro Quadrático Médio\n",
        "\n",
        "Raíz quadrada da média dos quadrados dos erros. Ajustes melhores apresentam $\\sqrt{EQM}$ mais baixo.\n",
        "\n",
        "$$\\sqrt{EQM(y, \\hat{y})} = \\sqrt{\\frac 1n\\sum_{i=0}^{n-1}(y_i-\\hat{y}_i)^2}$$\n",
        "\n",
        "### Coeficiente de Determinação - R²\n",
        "\n",
        "O coeficiente de determinação (R²) é uma medida resumida que diz quanto a linha de regressão ajusta-se aos dados. É um valor entra 0 e 1.\n",
        "\n",
        "$$R^2(y, \\hat{y}) = 1 - \\frac {\\sum_{i=0}^{n-1}(y_i-\\hat{y}_i)^2}{\\sum_{i=0}^{n-1}(y_i-\\bar{y}_i)^2}$$"
      ]
    },
    {
      "cell_type": "code",
      "execution_count": 69,
      "metadata": {
        "colab": {
          "base_uri": "https://localhost:8080/",
          "height": 143
        },
        "id": "GVUE_pldYD8R",
        "outputId": "9bcd6de6-81ad-44e3-86d2-674a60a53139"
      },
      "outputs": [
        {
          "output_type": "execute_result",
          "data": {
            "text/plain": [
              "         Métricas\n",
              "EQM   50197019.50\n",
              "REQM      7084.99\n",
              "R2           0.67"
            ],
            "text/html": [
              "\n",
              "  <div id=\"df-61d0e882-e8ee-408e-9c25-6874b30f2701\">\n",
              "    <div class=\"colab-df-container\">\n",
              "      <div>\n",
              "<style scoped>\n",
              "    .dataframe tbody tr th:only-of-type {\n",
              "        vertical-align: middle;\n",
              "    }\n",
              "\n",
              "    .dataframe tbody tr th {\n",
              "        vertical-align: top;\n",
              "    }\n",
              "\n",
              "    .dataframe thead th {\n",
              "        text-align: right;\n",
              "    }\n",
              "</style>\n",
              "<table border=\"1\" class=\"dataframe\">\n",
              "  <thead>\n",
              "    <tr style=\"text-align: right;\">\n",
              "      <th></th>\n",
              "      <th>Métricas</th>\n",
              "    </tr>\n",
              "  </thead>\n",
              "  <tbody>\n",
              "    <tr>\n",
              "      <th>EQM</th>\n",
              "      <td>50197019.50</td>\n",
              "    </tr>\n",
              "    <tr>\n",
              "      <th>REQM</th>\n",
              "      <td>7084.99</td>\n",
              "    </tr>\n",
              "    <tr>\n",
              "      <th>R2</th>\n",
              "      <td>0.67</td>\n",
              "    </tr>\n",
              "  </tbody>\n",
              "</table>\n",
              "</div>\n",
              "      <button class=\"colab-df-convert\" onclick=\"convertToInteractive('df-61d0e882-e8ee-408e-9c25-6874b30f2701')\"\n",
              "              title=\"Convert this dataframe to an interactive table.\"\n",
              "              style=\"display:none;\">\n",
              "        \n",
              "  <svg xmlns=\"http://www.w3.org/2000/svg\" height=\"24px\"viewBox=\"0 0 24 24\"\n",
              "       width=\"24px\">\n",
              "    <path d=\"M0 0h24v24H0V0z\" fill=\"none\"/>\n",
              "    <path d=\"M18.56 5.44l.94 2.06.94-2.06 2.06-.94-2.06-.94-.94-2.06-.94 2.06-2.06.94zm-11 1L8.5 8.5l.94-2.06 2.06-.94-2.06-.94L8.5 2.5l-.94 2.06-2.06.94zm10 10l.94 2.06.94-2.06 2.06-.94-2.06-.94-.94-2.06-.94 2.06-2.06.94z\"/><path d=\"M17.41 7.96l-1.37-1.37c-.4-.4-.92-.59-1.43-.59-.52 0-1.04.2-1.43.59L10.3 9.45l-7.72 7.72c-.78.78-.78 2.05 0 2.83L4 21.41c.39.39.9.59 1.41.59.51 0 1.02-.2 1.41-.59l7.78-7.78 2.81-2.81c.8-.78.8-2.07 0-2.86zM5.41 20L4 18.59l7.72-7.72 1.47 1.35L5.41 20z\"/>\n",
              "  </svg>\n",
              "      </button>\n",
              "      \n",
              "  <style>\n",
              "    .colab-df-container {\n",
              "      display:flex;\n",
              "      flex-wrap:wrap;\n",
              "      gap: 12px;\n",
              "    }\n",
              "\n",
              "    .colab-df-convert {\n",
              "      background-color: #E8F0FE;\n",
              "      border: none;\n",
              "      border-radius: 50%;\n",
              "      cursor: pointer;\n",
              "      display: none;\n",
              "      fill: #1967D2;\n",
              "      height: 32px;\n",
              "      padding: 0 0 0 0;\n",
              "      width: 32px;\n",
              "    }\n",
              "\n",
              "    .colab-df-convert:hover {\n",
              "      background-color: #E2EBFA;\n",
              "      box-shadow: 0px 1px 2px rgba(60, 64, 67, 0.3), 0px 1px 3px 1px rgba(60, 64, 67, 0.15);\n",
              "      fill: #174EA6;\n",
              "    }\n",
              "\n",
              "    [theme=dark] .colab-df-convert {\n",
              "      background-color: #3B4455;\n",
              "      fill: #D2E3FC;\n",
              "    }\n",
              "\n",
              "    [theme=dark] .colab-df-convert:hover {\n",
              "      background-color: #434B5C;\n",
              "      box-shadow: 0px 1px 3px 1px rgba(0, 0, 0, 0.15);\n",
              "      filter: drop-shadow(0px 1px 2px rgba(0, 0, 0, 0.3));\n",
              "      fill: #FFFFFF;\n",
              "    }\n",
              "  </style>\n",
              "\n",
              "      <script>\n",
              "        const buttonEl =\n",
              "          document.querySelector('#df-61d0e882-e8ee-408e-9c25-6874b30f2701 button.colab-df-convert');\n",
              "        buttonEl.style.display =\n",
              "          google.colab.kernel.accessAllowed ? 'block' : 'none';\n",
              "\n",
              "        async function convertToInteractive(key) {\n",
              "          const element = document.querySelector('#df-61d0e882-e8ee-408e-9c25-6874b30f2701');\n",
              "          const dataTable =\n",
              "            await google.colab.kernel.invokeFunction('convertToInteractive',\n",
              "                                                     [key], {});\n",
              "          if (!dataTable) return;\n",
              "\n",
              "          const docLinkHtml = 'Like what you see? Visit the ' +\n",
              "            '<a target=\"_blank\" href=https://colab.research.google.com/notebooks/data_table.ipynb>data table notebook</a>'\n",
              "            + ' to learn more about interactive tables.';\n",
              "          element.innerHTML = '';\n",
              "          dataTable['output_type'] = 'display_data';\n",
              "          await google.colab.output.renderOutput(dataTable, element);\n",
              "          const docLink = document.createElement('div');\n",
              "          docLink.innerHTML = docLinkHtml;\n",
              "          element.appendChild(docLink);\n",
              "        }\n",
              "      </script>\n",
              "    </div>\n",
              "  </div>\n",
              "  "
            ]
          },
          "metadata": {},
          "execution_count": 69
        }
      ],
      "source": [
        "EQM = metrics.mean_squared_error(y_test, y_previsto).round(2)\n",
        "R_EQM = (np.sqrt(EQM)).round(2)\n",
        "R2 = metrics.r2_score(y_test, y_previsto).round(2)\n",
        "\n",
        "pd.DataFrame([EQM, R_EQM, R2], ['EQM', 'REQM', 'R2'], columns = ['Métricas'])"
      ]
    },
    {
      "cell_type": "markdown",
      "metadata": {
        "id": "R41VB_afYD8R"
      },
      "source": [
        "# <font color='red' style='font-size: 30px;'>Salvando e Carregando o Modelo Estimado</font>\n",
        "<hr style='border: 2px solid red;'>"
      ]
    },
    {
      "cell_type": "markdown",
      "metadata": {
        "id": "Qb3DevnEYD8R"
      },
      "source": [
        "## Importando a biblioteca pickle"
      ]
    },
    {
      "cell_type": "code",
      "execution_count": 70,
      "metadata": {
        "id": "_lhGxygxYD8R"
      },
      "outputs": [],
      "source": [
        "import pickle"
      ]
    },
    {
      "cell_type": "markdown",
      "metadata": {
        "id": "MT3nAEidYD8R"
      },
      "source": [
        "## Salvando o modelo estimado"
      ]
    },
    {
      "cell_type": "code",
      "execution_count": 71,
      "metadata": {
        "id": "LV00FR2GYD8R"
      },
      "outputs": [],
      "source": [
        "output = open('modelo_consumo_cerveja','wb')\n",
        "pickle.dump(modelo, output)\n",
        "output.close()"
      ]
    },
    {
      "cell_type": "markdown",
      "metadata": {
        "id": "r4bLPj3JYD8S"
      },
      "source": [
        "### Em um novo notebook/projeto Python\n",
        "\n",
        "<h4 style='color: blue; font-weight: normal'>In [1]:</h4>\n",
        "\n",
        "```sh\n",
        "import pickle\n",
        "\n",
        "modelo = open('modelo_preço','rb')\n",
        "lm_new = pickle.load(modelo)\n",
        "modelo.close()\n",
        "\n",
        "area = 38\n",
        "garagem = 2\n",
        "banheiros = 4\n",
        "lareira = 4\n",
        "marmore = 0\n",
        "andares = 1\n",
        "\n",
        "entrada = [[area, garagem, banheiros, lareira, marmore, andares]]\n",
        "\n",
        "print('$ {0:.2f}'.format(lm_new.predict(entrada)[0]))\n",
        "```\n",
        "\n",
        "<h4 style='color: red; font-weight: normal'>Out [1]:</h4>\n",
        "\n",
        "```\n",
        "$ 46389.80\n",
        "```"
      ]
    },
    {
      "cell_type": "code",
      "execution_count": null,
      "metadata": {
        "id": "HQZ5mixQYD8S"
      },
      "outputs": [],
      "source": [
        ""
      ]
    }
  ],
  "metadata": {
    "kernelspec": {
      "display_name": "Python 3",
      "language": "python",
      "name": "python3"
    },
    "language_info": {
      "codemirror_mode": {
        "name": "ipython",
        "version": 3
      },
      "file_extension": ".py",
      "mimetype": "text/x-python",
      "name": "python",
      "nbconvert_exporter": "python",
      "pygments_lexer": "ipython3",
      "version": "3.7.0"
    },
    "colab": {
      "name": "Regressao Linear.ipynb",
      "provenance": [],
      "include_colab_link": true
    }
  },
  "nbformat": 4,
  "nbformat_minor": 0
}